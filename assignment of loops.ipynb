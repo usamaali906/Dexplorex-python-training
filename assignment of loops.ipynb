{
 "cells": [
  {
   "cell_type": "markdown",
   "id": "cfcc5e30-595a-45ce-bc2f-1820b9667d8e",
   "metadata": {},
   "source": [
    "#### Task 1\n",
    "> Write a Python program that checks if the user's inputted temperature is above 30C. if it is, print\" its a hot day!'"
   ]
  },
  {
   "cell_type": "code",
   "execution_count": 68,
   "id": "1f6002a2-a6d4-432e-8a1d-9ff4270ef3cf",
   "metadata": {},
   "outputs": [
    {
     "name": "stdin",
     "output_type": "stream",
     "text": [
      "Please Enter Today Temperature! 35\n"
     ]
    },
    {
     "name": "stdout",
     "output_type": "stream",
     "text": [
      "Its a hot Today!\n"
     ]
    }
   ],
   "source": [
    "temp = int(input(\"Please Enter Today Temperature!\"))\n",
    "if temp >= 30:\n",
    "    print (\"Its a hot Today!\")\n"
   ]
  },
  {
   "cell_type": "markdown",
   "id": "495c8280-ad8e-4a7a-86f3-76f0f003dd03",
   "metadata": {},
   "source": [
    "#### Task 2\n",
    "> Write a program that checks if a user's entered balance is enough to purchase an item that costs 20 if the balance is greater than or equal to 20$, print\"You can afford the item\", otherwise print \"insufficient balance\"."
   ]
  },
  {
   "cell_type": "code",
   "execution_count": 75,
   "id": "9d92cf59-52e3-4c5e-b287-632b96f7b680",
   "metadata": {},
   "outputs": [
    {
     "name": "stdin",
     "output_type": "stream",
     "text": [
      "Your balance is: 25\n"
     ]
    },
    {
     "name": "stdout",
     "output_type": "stream",
     "text": [
      "You can afford the Item\n"
     ]
    }
   ],
   "source": [
    "balance = int(input(\"Your balance is:\"))\n",
    "if balance >= 20:\n",
    "    print(\"You can afford the Item\")\n",
    "if balance <20:\n",
    "    print (\"Insufficient Balance\")"
   ]
  },
  {
   "cell_type": "markdown",
   "id": "b7023f74-707a-4a75-8f16-f76caeee41ec",
   "metadata": {},
   "source": [
    "#### Task 3\n",
    "> Write a python program that asks the user for their current age. if the age is 18 or older, print \"You are eligible to vote\". Otherwise, print \"You are not eligible to Vote\"."
   ]
  },
  {
   "cell_type": "code",
   "execution_count": 82,
   "id": "172312e7-f85e-4551-adc3-d2b55744c014",
   "metadata": {},
   "outputs": [
    {
     "name": "stdin",
     "output_type": "stream",
     "text": [
      "Your Age is : 25\n"
     ]
    },
    {
     "name": "stdout",
     "output_type": "stream",
     "text": [
      "You are eligible to vote\n"
     ]
    }
   ],
   "source": [
    "age = int(input(\"Your Age is :\"))\n",
    "if age >= 18:\n",
    "    print (\"You are eligible to vote\")\n",
    "else:\n",
    "    print (\"You are not eligible to vote\")"
   ]
  },
  {
   "cell_type": "markdown",
   "id": "ff103365-a94e-4662-b7cc-61a85378c284",
   "metadata": {},
   "source": [
    "#### Task 4\n",
    "> Write a python program that asks the user's input about whether they have a valid parking ticket(Yes or No). If the answer is \"Yes\", print \"You may park\", otherwise print\"You cannot park\"."
   ]
  },
  {
   "cell_type": "code",
   "execution_count": 124,
   "id": "31999ef9-2890-4b80-8db2-393e3f230a35",
   "metadata": {},
   "outputs": [
    {
     "name": "stdin",
     "output_type": "stream",
     "text": [
      "Do you have a Valid Ticket? yes\n"
     ]
    },
    {
     "name": "stdout",
     "output_type": "stream",
     "text": [
      "you are eligible to park\n"
     ]
    }
   ],
   "source": [
    "x = str(input(\"Do you have a Valid Ticket?\"))\n",
    "if x.lower() == \"yes\":\n",
    "    print(\"you are eligible to park\")\n",
    "else:\n",
    "    print(\"You are not eligible to park\")\n",
    "\n",
    "    "
   ]
  },
  {
   "cell_type": "markdown",
   "id": "b32d0825-1951-40bc-8059-983fe1b43467",
   "metadata": {},
   "source": [
    "#### Task 5\n",
    "> Write a python program that asks the user's current moo (Happy, Sad, Neutral).\n",
    "> if the mood is \"Happy\" print Enjoy your Day.\n",
    "> if the mood is \"Sad\" print Cheer Up!\n",
    "> otherwise print \"Have a good Day\""
   ]
  },
  {
   "cell_type": "code",
   "execution_count": 174,
   "id": "4c2deb48-d158-4567-858f-3acc50bb59cf",
   "metadata": {},
   "outputs": [
    {
     "name": "stdin",
     "output_type": "stream",
     "text": [
      "Hows your Mood? good\n"
     ]
    },
    {
     "name": "stdout",
     "output_type": "stream",
     "text": [
      "Have a Good Day\n"
     ]
    }
   ],
   "source": [
    "mood = str(input(\"Hows your Mood?\"))\n",
    "if mood.lower() == \"happy\":\n",
    "    print (\"Enjoy Your Day!\")\n",
    "if mood.lower() == \"sad\":\n",
    "        print (\"Cheer Up!\")\n",
    "if mood.lower()!= \"happy\" and mood.lower()!= \"sad\":\n",
    "    print (\"Have a Good Day\")"
   ]
  },
  {
   "cell_type": "code",
   "execution_count": null,
   "id": "1359bab2-9b6c-46da-8997-8b618ff801ec",
   "metadata": {},
   "outputs": [],
   "source": []
  }
 ],
 "metadata": {
  "kernelspec": {
   "display_name": "Python 3 (ipykernel)",
   "language": "python",
   "name": "python3"
  },
  "language_info": {
   "codemirror_mode": {
    "name": "ipython",
    "version": 3
   },
   "file_extension": ".py",
   "mimetype": "text/x-python",
   "name": "python",
   "nbconvert_exporter": "python",
   "pygments_lexer": "ipython3",
   "version": "3.12.7"
  }
 },
 "nbformat": 4,
 "nbformat_minor": 5
}
