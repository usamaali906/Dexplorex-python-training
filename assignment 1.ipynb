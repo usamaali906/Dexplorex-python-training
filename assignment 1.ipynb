{
 "cells": [
  {
   "cell_type": "markdown",
   "id": "0a4a51f6-04c8-4a1e-8b3b-8ba654e40bb7",
   "metadata": {},
   "source": [
    "# Assignment 1\n",
    "Following are the tasks.\n",
    "\n",
    "---------"
   ]
  },
  {
   "cell_type": "code",
   "execution_count": 5,
   "id": "88ca78d3-797b-477b-9a5e-79168729d209",
   "metadata": {},
   "outputs": [
    {
     "name": "stdout",
     "output_type": "stream",
     "text": [
      "Hello\n"
     ]
    }
   ],
   "source": [
    "print('Hello')"
   ]
  },
  {
   "cell_type": "code",
   "execution_count": 29,
   "id": "2424df2c-a710-4b2c-a46b-0e892d3f29a9",
   "metadata": {},
   "outputs": [
    {
     "name": "stdin",
     "output_type": "stream",
     "text": [
      "Full Name:- Usama\n"
     ]
    }
   ],
   "source": [
    "a = input(\"Full Name:-\")"
   ]
  },
  {
   "cell_type": "code",
   "execution_count": 61,
   "id": "a43327ab-b353-4414-8302-b8870d663eaa",
   "metadata": {},
   "outputs": [
    {
     "data": {
      "text/plain": [
       "['Usama']"
      ]
     },
     "execution_count": 61,
     "metadata": {},
     "output_type": "execute_result"
    }
   ],
   "source": [
    "[a]"
   ]
  },
  {
   "cell_type": "markdown",
   "id": "f79ba26b-2f46-47d4-9754-d3f1020844e8",
   "metadata": {},
   "source": [
    "---------"
   ]
  },
  {
   "cell_type": "code",
   "execution_count": 79,
   "id": "1b25d7d3-0e88-4a70-b2a4-8b7401d0dfcc",
   "metadata": {},
   "outputs": [
    {
     "name": "stdout",
     "output_type": "stream",
     "text": [
      "the sum of 5 and 3 is 8\n"
     ]
    }
   ],
   "source": [
    "b = 5\n",
    "c = 3\n",
    "d = b+c\n",
    "print (f\"the sum of {b} and {c} is\",d)"
   ]
  },
  {
   "cell_type": "markdown",
   "id": "453b5b0f-3f72-452b-b21f-cab213329bfa",
   "metadata": {},
   "source": [
    "--------"
   ]
  },
  {
   "cell_type": "code",
   "execution_count": 86,
   "id": "9227aeb7-a617-4542-ad9c-568356558d19",
   "metadata": {},
   "outputs": [
    {
     "name": "stdin",
     "output_type": "stream",
     "text": [
      "enter first value 10\n",
      "enter second value 10\n"
     ]
    },
    {
     "name": "stdout",
     "output_type": "stream",
     "text": [
      "The sum of your values is 20\n"
     ]
    }
   ],
   "source": [
    "aa = int(input(\"enter first value\"))\n",
    "bb = int(input(\"enter second value\"))\n",
    "cc= aa+bb\n",
    "print (\"The sum of your values is:\",cc)"
   ]
  },
  {
   "cell_type": "markdown",
   "id": "2f92a523-180e-4b30-ab87-e654e4901fe2",
   "metadata": {},
   "source": [
    "---------"
   ]
  },
  {
   "cell_type": "code",
   "execution_count": 91,
   "id": "a39d5e7c-3762-4e5c-be2b-80443d06d8fe",
   "metadata": {},
   "outputs": [
    {
     "name": "stdout",
     "output_type": "stream",
     "text": [
      "The result of 10 - 4 is: 6\n"
     ]
    }
   ],
   "source": [
    "x=10\n",
    "y=4\n",
    "z=x-y\n",
    "print (f\"The result of {x} - {y} is:\",z)"
   ]
  },
  {
   "cell_type": "markdown",
   "id": "eab1afe9-6482-4ba3-b732-00f4730ed622",
   "metadata": {},
   "source": [
    "---------"
   ]
  },
  {
   "cell_type": "code",
   "execution_count": 100,
   "id": "ec302f98-15c1-4a02-aee4-cd38b96077ba",
   "metadata": {},
   "outputs": [
    {
     "name": "stdin",
     "output_type": "stream",
     "text": [
      "Enter 1st Value 4\n"
     ]
    },
    {
     "name": "stdout",
     "output_type": "stream",
     "text": [
      "Square of 4 is: 16\n"
     ]
    }
   ],
   "source": [
    "a1=int(input(\"Enter 1st Value\"))\n",
    "a2=a1*a1\n",
    "print(f\"Square of {a1} is:\",a2)"
   ]
  },
  {
   "cell_type": "markdown",
   "id": "7aa17d55-dca3-4513-a18d-67179e6dcc02",
   "metadata": {},
   "source": [
    "---------"
   ]
  },
  {
   "cell_type": "code",
   "execution_count": 105,
   "id": "3562fd9d-c4d8-4a3b-93ab-db38276e8290",
   "metadata": {},
   "outputs": [
    {
     "name": "stdout",
     "output_type": "stream",
     "text": [
      "Result of 7 * 2 is: 14\n"
     ]
    }
   ],
   "source": [
    "aa1=7\n",
    "aa2=2\n",
    "aa3= aa1*aa2\n",
    "print (f\"Result of {aa1} * {aa2} is:\",aa3)"
   ]
  },
  {
   "cell_type": "markdown",
   "id": "51eeb06f-3da5-49e7-9e9d-c3d40bce320e",
   "metadata": {},
   "source": [
    "---------"
   ]
  },
  {
   "cell_type": "code",
   "execution_count": 110,
   "id": "2a8bdcf6-c6b7-4cca-b7a8-dcd1098476ec",
   "metadata": {},
   "outputs": [
    {
     "name": "stdin",
     "output_type": "stream",
     "text": [
      "Enter first value 10\n",
      "Enter second value 2\n"
     ]
    },
    {
     "name": "stdout",
     "output_type": "stream",
     "text": [
      "Result of 10 * 2 is 20\n"
     ]
    }
   ],
   "source": [
    "v1=int(input(\"Enter first value\"))\n",
    "v2= int(input(\"Enter second value\"))\n",
    "v3=v1*v2\n",
    "print(f\"Result of {v1} * {v2} is\",v3)"
   ]
  },
  {
   "cell_type": "markdown",
   "id": "88f56859-ef14-4f39-bb4d-e9e618b77596",
   "metadata": {},
   "source": [
    "---------"
   ]
  },
  {
   "cell_type": "code",
   "execution_count": 115,
   "id": "04481ebe-955c-4e76-9f03-410cf76b831f",
   "metadata": {},
   "outputs": [
    {
     "data": {
      "text/plain": [
       "[3.0]"
      ]
     },
     "execution_count": 115,
     "metadata": {},
     "output_type": "execute_result"
    }
   ],
   "source": [
    "vv1=9\n",
    "vv2=3\n",
    "vv3=vv1/vv2\n",
    "[vv3]"
   ]
  },
  {
   "cell_type": "code",
   "execution_count": 125,
   "id": "3a7a9e20-ec59-4ce2-b56b-e1a16a940672",
   "metadata": {},
   "outputs": [
    {
     "name": "stdin",
     "output_type": "stream",
     "text": [
      "Enter the value  4\n"
     ]
    },
    {
     "name": "stdout",
     "output_type": "stream",
     "text": [
      "your value 4 is doubled. \n",
      " Doubled Value is: 8\n"
     ]
    }
   ],
   "source": [
    "dv=int(input(\"Enter the value \"))\n",
    "dv2=dv*2\n",
    "print(f\"your value {dv} is doubled. \\n Doubled Value is:\",dv2)"
   ]
  },
  {
   "cell_type": "code",
   "execution_count": null,
   "id": "01d8e02e-3410-4369-ab54-36d29e8e4695",
   "metadata": {},
   "outputs": [],
   "source": []
  }
 ],
 "metadata": {
  "kernelspec": {
   "display_name": "Python 3 (ipykernel)",
   "language": "python",
   "name": "python3"
  },
  "language_info": {
   "codemirror_mode": {
    "name": "ipython",
    "version": 3
   },
   "file_extension": ".py",
   "mimetype": "text/x-python",
   "name": "python",
   "nbconvert_exporter": "python",
   "pygments_lexer": "ipython3",
   "version": "3.12.7"
  }
 },
 "nbformat": 4,
 "nbformat_minor": 5
}
