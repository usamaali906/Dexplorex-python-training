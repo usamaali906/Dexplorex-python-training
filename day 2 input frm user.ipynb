{
 "cells": [
  {
   "cell_type": "markdown",
   "id": "d5f6c7d1-d8a4-4218-8c67-0441941c968b",
   "metadata": {},
   "source": [
    "# Day 2 Input from user"
   ]
  },
  {
   "cell_type": "code",
   "execution_count": 7,
   "id": "add2ebab-eadb-491e-9903-6281332f8114",
   "metadata": {},
   "outputs": [
    {
     "name": "stdin",
     "output_type": "stream",
     "text": [
      "enter your name: zeeshan\n"
     ]
    }
   ],
   "source": [
    "\n",
    "name = input(\"enter your name:\")"
   ]
  },
  {
   "cell_type": "code",
   "execution_count": 9,
   "id": "3a64ff52-1bec-4954-b813-8a038db6587f",
   "metadata": {},
   "outputs": [
    {
     "data": {
      "text/plain": [
       "'zeeshan'"
      ]
     },
     "execution_count": 9,
     "metadata": {},
     "output_type": "execute_result"
    }
   ],
   "source": [
    "name"
   ]
  },
  {
   "cell_type": "code",
   "execution_count": 17,
   "id": "658acc45-0f2d-4af2-b9b0-fffa0f004d05",
   "metadata": {},
   "outputs": [
    {
     "name": "stdin",
     "output_type": "stream",
     "text": [
      "enter your age: 48\n"
     ]
    }
   ],
   "source": [
    "age = int(input(\"enter your age:\")) # input finction alaways take values in the form of string"
   ]
  },
  {
   "cell_type": "code",
   "execution_count": 19,
   "id": "50b5a590-9064-4152-b5c4-2d5c53e585aa",
   "metadata": {},
   "outputs": [
    {
     "data": {
      "text/plain": [
       "48"
      ]
     },
     "execution_count": 19,
     "metadata": {},
     "output_type": "execute_result"
    }
   ],
   "source": [
    "age"
   ]
  },
  {
   "cell_type": "code",
   "execution_count": 23,
   "id": "7ec0b563-d80e-4c90-9fb3-06382ed7cfdd",
   "metadata": {},
   "outputs": [
    {
     "name": "stdin",
     "output_type": "stream",
     "text": [
      "enter your phy marks: 85\n",
      "enter your chem marks: 65\n",
      "enter your math marks: 75\n",
      "enter your urdu marks: 95\n",
      "enter your eng marks: 85\n"
     ]
    }
   ],
   "source": [
    "phy = int(input(\"enter your phy marks:\"))\n",
    "chem = int(input(\"enter your chem marks:\"))\n",
    "math= int(input(\"enter your math marks:\"))\n",
    "urdu = int(input(\"enter your urdu marks:\"))\n",
    "eng = int(input(\"enter your eng marks:\"))"
   ]
  },
  {
   "cell_type": "code",
   "execution_count": 39,
   "id": "269c371d-4109-4810-b5b9-2b80229668af",
   "metadata": {},
   "outputs": [
    {
     "data": {
      "text/plain": [
       "int"
      ]
     },
     "execution_count": 39,
     "metadata": {},
     "output_type": "execute_result"
    }
   ],
   "source": [
    "total = phy + chem + math + urdu + eng\n",
    "type(total)"
   ]
  },
  {
   "cell_type": "code",
   "execution_count": 31,
   "id": "e47341ab-945b-4f6a-a32b-41774c2aed90",
   "metadata": {},
   "outputs": [
    {
     "name": "stdout",
     "output_type": "stream",
     "text": [
      "the total marks: 405\n"
     ]
    }
   ],
   "source": [
    "print(\"the total marks:\",total)"
   ]
  },
  {
   "cell_type": "code",
   "execution_count": 41,
   "id": "6084440e-a349-4d01-824b-be0ddbaf6829",
   "metadata": {},
   "outputs": [
    {
     "name": "stdout",
     "output_type": "stream",
     "text": [
      "the average marks is: 81.0\n"
     ]
    },
    {
     "data": {
      "text/plain": [
       "float"
      ]
     },
     "execution_count": 41,
     "metadata": {},
     "output_type": "execute_result"
    }
   ],
   "source": [
    "average = total / 5\n",
    "print(\"the average marks is:\",average)\n",
    "type(average)"
   ]
  },
  {
   "cell_type": "code",
   "execution_count": 35,
   "id": "2c196a92-cd8b-468c-899a-e0501d80920b",
   "metadata": {},
   "outputs": [],
   "source": [
    "duble_phy = phy * 2"
   ]
  },
  {
   "cell_type": "code",
   "execution_count": 37,
   "id": "d61ac343-0f49-43f6-be17-ee66dbc7ce9d",
   "metadata": {},
   "outputs": [
    {
     "data": {
      "text/plain": [
       "170"
      ]
     },
     "execution_count": 37,
     "metadata": {},
     "output_type": "execute_result"
    }
   ],
   "source": [
    "duble_phy"
   ]
  },
  {
   "cell_type": "code",
   "execution_count": 43,
   "id": "770018bb-d824-494a-8502-9c397db0fd86",
   "metadata": {},
   "outputs": [
    {
     "data": {
      "text/plain": [
       "2.0"
      ]
     },
     "execution_count": 43,
     "metadata": {},
     "output_type": "execute_result"
    }
   ],
   "source": [
    "8/4"
   ]
  },
  {
   "cell_type": "code",
   "execution_count": 47,
   "id": "ddca60d3-859b-446f-bf21-00367ab15bab",
   "metadata": {},
   "outputs": [
    {
     "data": {
      "text/plain": [
       "0"
      ]
     },
     "execution_count": 47,
     "metadata": {},
     "output_type": "execute_result"
    }
   ],
   "source": [
    "8 % 4 # ,mod operator gives remainder it used for finding complete division of two numbers "
   ]
  },
  {
   "cell_type": "code",
   "execution_count": 49,
   "id": "d94c850d-6f9d-4069-a530-5ba24bb6d3cc",
   "metadata": {},
   "outputs": [],
   "source": [
    "a = 1\n",
    "a = a+1"
   ]
  },
  {
   "cell_type": "code",
   "execution_count": 51,
   "id": "26af435d-0dc6-40ef-a75f-f86c4e1b92ba",
   "metadata": {},
   "outputs": [
    {
     "data": {
      "text/plain": [
       "2"
      ]
     },
     "execution_count": 51,
     "metadata": {},
     "output_type": "execute_result"
    }
   ],
   "source": [
    "a"
   ]
  },
  {
   "cell_type": "code",
   "execution_count": 55,
   "id": "8f83b7de-4f9e-4c44-bd8a-58e2c5086694",
   "metadata": {},
   "outputs": [],
   "source": [
    "a = a-1"
   ]
  },
  {
   "cell_type": "code",
   "execution_count": 58,
   "id": "5c8fdb7b-b515-4059-b8d2-2503b37eddf6",
   "metadata": {},
   "outputs": [
    {
     "data": {
      "text/plain": [
       "1"
      ]
     },
     "execution_count": 58,
     "metadata": {},
     "output_type": "execute_result"
    }
   ],
   "source": [
    "a"
   ]
  },
  {
   "cell_type": "code",
   "execution_count": 60,
   "id": "7836acae-f5b2-4ee6-ace2-5b889576b2b0",
   "metadata": {},
   "outputs": [],
   "source": [
    "a += 3"
   ]
  },
  {
   "cell_type": "code",
   "execution_count": 63,
   "id": "b0fa9bbf-40a0-4ae1-8c20-3f7e9b7ebd63",
   "metadata": {},
   "outputs": [
    {
     "data": {
      "text/plain": [
       "4"
      ]
     },
     "execution_count": 63,
     "metadata": {},
     "output_type": "execute_result"
    }
   ],
   "source": [
    "a"
   ]
  },
  {
   "cell_type": "code",
   "execution_count": 65,
   "id": "21e20741-a1fb-4499-a44f-c3104b65dadb",
   "metadata": {},
   "outputs": [],
   "source": [
    "a = a+3"
   ]
  },
  {
   "cell_type": "code",
   "execution_count": 67,
   "id": "8428a4c6-662c-46dc-ab70-9b0cdc99d298",
   "metadata": {},
   "outputs": [
    {
     "data": {
      "text/plain": [
       "7"
      ]
     },
     "execution_count": 67,
     "metadata": {},
     "output_type": "execute_result"
    }
   ],
   "source": [
    "a"
   ]
  },
  {
   "cell_type": "code",
   "execution_count": null,
   "id": "db7d5879-44e0-4e2b-a484-333655ce6bca",
   "metadata": {},
   "outputs": [],
   "source": []
  }
 ],
 "metadata": {
  "kernelspec": {
   "display_name": "Python 3 (ipykernel)",
   "language": "python",
   "name": "python3"
  },
  "language_info": {
   "codemirror_mode": {
    "name": "ipython",
    "version": 3
   },
   "file_extension": ".py",
   "mimetype": "text/x-python",
   "name": "python",
   "nbconvert_exporter": "python",
   "pygments_lexer": "ipython3",
   "version": "3.12.7"
  }
 },
 "nbformat": 4,
 "nbformat_minor": 5
}
