{
 "cells": [
  {
   "cell_type": "code",
   "execution_count": 51,
   "id": "72ffa2b6-852a-448f-b476-437f499ebd1d",
   "metadata": {},
   "outputs": [],
   "source": [
    "def name():\n",
    "    x = int(input(\"Enter any number: \"))\n",
    "    return x"
   ]
  },
  {
   "cell_type": "code",
   "execution_count": 55,
   "id": "50e3f790-b10d-4bf6-84fe-7307c9c98f8f",
   "metadata": {},
   "outputs": [],
   "source": [
    "#name()"
   ]
  },
  {
   "cell_type": "code",
   "execution_count": 59,
   "id": "c80f32a5-70fb-477c-bec8-b36f2da00e66",
   "metadata": {},
   "outputs": [
    {
     "name": "stdin",
     "output_type": "stream",
     "text": [
      "Enter any number:  50\n"
     ]
    }
   ],
   "source": [
    "number = name()"
   ]
  },
  {
   "cell_type": "code",
   "execution_count": 61,
   "id": "fe45ef72-1c36-48c5-baa8-af1279b80976",
   "metadata": {},
   "outputs": [
    {
     "name": "stdout",
     "output_type": "stream",
     "text": [
      "value of x is 50\n"
     ]
    }
   ],
   "source": [
    "print (f\"value of x is {number}\")"
   ]
  },
  {
   "cell_type": "code",
   "execution_count": 87,
   "id": "b0cba5d4-4077-48e8-ae69-750f8c67b03c",
   "metadata": {},
   "outputs": [],
   "source": [
    "def sqqq(n,i): # function with return value and a parameter \n",
    "    s = n*n\n",
    "    print(\"the value of i is:\",i)\n",
    "    return s"
   ]
  },
  {
   "cell_type": "code",
   "execution_count": 97,
   "id": "59f4780a-b56b-4001-a015-37604dd4eea7",
   "metadata": {},
   "outputs": [
    {
     "name": "stdin",
     "output_type": "stream",
     "text": [
      "enter a number: 10\n",
      "enter a number: 20\n"
     ]
    },
    {
     "name": "stdout",
     "output_type": "stream",
     "text": [
      "the value of i is: 20\n",
      "the square is: 100\n"
     ]
    }
   ],
   "source": [
    "n = int(input(\"enter a number:\"))\n",
    "i = int(input(\"enter a number:\"))\n",
    "s = sqqq(n,i)\n",
    "print(\"the square is:\",s)"
   ]
  },
  {
   "cell_type": "code",
   "execution_count": 105,
   "id": "9c4e8094-7fde-49f3-917b-89c58dd93523",
   "metadata": {},
   "outputs": [],
   "source": [
    "def addi(q,w):\n",
    "    e = q+w\n",
    "    #print (f\"{q} + {q} = {e}\")\n",
    "    return e"
   ]
  },
  {
   "cell_type": "code",
   "execution_count": 107,
   "id": "b6f66ad2-1304-4d0c-99ae-6a9c13e577e0",
   "metadata": {},
   "outputs": [
    {
     "name": "stdin",
     "output_type": "stream",
     "text": [
      "First number:  10\n",
      "Second Number:  20\n"
     ]
    },
    {
     "name": "stdout",
     "output_type": "stream",
     "text": [
      "Here is answer 30\n"
     ]
    }
   ],
   "source": [
    "q = int(input(\"First number: \"))\n",
    "w = int(input(\"Second Number: \"))\n",
    "e = addi(q,w)\n",
    "print (\"Here is answer\",e)"
   ]
  },
  {
   "cell_type": "code",
   "execution_count": 109,
   "id": "c07f5127-1b8a-4526-b059-9aa6294429e0",
   "metadata": {},
   "outputs": [],
   "source": [
    "def data(nam,numb):\n",
    "    naam = nam\n",
    "    nam = numb\n",
    "    return naam\n",
    "    return numb"
   ]
  },
  {
   "cell_type": "code",
   "execution_count": null,
   "id": "7a1d7776-6a94-49bb-b5ea-805a1dbdbacd",
   "metadata": {},
   "outputs": [],
   "source": []
  },
  {
   "cell_type": "code",
   "execution_count": 117,
   "id": "40e2ecd1-a740-4e71-a918-55a355abe748",
   "metadata": {},
   "outputs": [
    {
     "name": "stdin",
     "output_type": "stream",
     "text": [
      "Your name:  usama\n",
      "Your number is:  10\n"
     ]
    },
    {
     "name": "stdout",
     "output_type": "stream",
     "text": [
      "Your Name is  usama\n",
      "Your number is:  10\n"
     ]
    }
   ],
   "source": [
    "nam = str(input(\"Your name: \"))\n",
    "numb = int(input(\"Your number is: \"))\n",
    "biodata = data(nam,numb)\n",
    "print (\"Your Name is \",nam)\n",
    "print (\"Your number is: \",numb)"
   ]
  },
  {
   "cell_type": "code",
   "execution_count": 179,
   "id": "3c072622-a04f-45ea-a65f-9929e16d5375",
   "metadata": {},
   "outputs": [],
   "source": [
    "def marks():\n",
    "    obtain_marks = int(input(\"Please Enter your Marks\"))\n",
    "    return obtain_marks"
   ]
  },
  {
   "cell_type": "code",
   "execution_count": 181,
   "id": "44c0e3c4-86d0-4a7e-a358-7ee4aa09d687",
   "metadata": {},
   "outputs": [],
   "source": [
    "def check(obtain_marks):\n",
    "    if (obtain_marks >= 40):\n",
    "        print (\"Your are Pass\")\n",
    "    else:\n",
    "        print(\"You are Fail\")"
   ]
  },
  {
   "cell_type": "code",
   "execution_count": 185,
   "id": "fd2f11ed-c121-4f9d-9ea3-1f3336e5d76f",
   "metadata": {},
   "outputs": [
    {
     "name": "stdin",
     "output_type": "stream",
     "text": [
      "Please Enter your Marks 10\n"
     ]
    },
    {
     "name": "stdout",
     "output_type": "stream",
     "text": [
      "You are Fail\n"
     ]
    }
   ],
   "source": [
    "obtain_marks = marks()\n",
    "check(obtain_marks)\n"
   ]
  },
  {
   "cell_type": "code",
   "execution_count": null,
   "id": "6f753a6f-5758-42a3-8e2d-2a4dc87f72b3",
   "metadata": {},
   "outputs": [],
   "source": []
  }
 ],
 "metadata": {
  "kernelspec": {
   "display_name": "Python 3 (ipykernel)",
   "language": "python",
   "name": "python3"
  },
  "language_info": {
   "codemirror_mode": {
    "name": "ipython",
    "version": 3
   },
   "file_extension": ".py",
   "mimetype": "text/x-python",
   "name": "python",
   "nbconvert_exporter": "python",
   "pygments_lexer": "ipython3",
   "version": "3.12.7"
  }
 },
 "nbformat": 4,
 "nbformat_minor": 5
}
