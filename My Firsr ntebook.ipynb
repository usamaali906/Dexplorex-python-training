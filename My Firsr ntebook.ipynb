{
 "cells": [
  {
   "cell_type": "markdown",
   "id": "94dfb6e0-549f-49c2-a715-f511fe73bc5f",
   "metadata": {},
   "source": [
    "# Heading 1\n",
    "here s the explanation of heading 1\n",
    "## heding 2\n",
    "\n",
    "- a\n",
    "- b\n",
    "- c\n",
    "- d\n",
    "---------\n",
    "\n",
    "> sjsjsshjs"
   ]
  },
  {
   "cell_type": "code",
   "execution_count": 19,
   "id": "b3074325-5ef3-428b-8edd-0a092099fd28",
   "metadata": {},
   "outputs": [
    {
     "name": "stdout",
     "output_type": "stream",
     "text": [
      "hello\n",
      "hello\n",
      "hello\n",
      "hello\n"
     ]
    }
   ],
   "source": [
    "print('hello')\n",
    "print(\"hello\")\n",
    "print('''hello''')\n",
    "print(\"\"\"hello\"\"\")"
   ]
  },
  {
   "cell_type": "code",
   "execution_count": 21,
   "id": "b0f778c6-1370-472b-a557-1b9eea76c607",
   "metadata": {},
   "outputs": [
    {
     "name": "stdout",
     "output_type": "stream",
     "text": [
      "Hello \n",
      " bcho\n"
     ]
    }
   ],
   "source": [
    "print(\"Hello \\n bcho\")"
   ]
  },
  {
   "cell_type": "code",
   "execution_count": 29,
   "id": "b2d19502-f068-4a49-a09c-2a676e33f6c8",
   "metadata": {},
   "outputs": [
    {
     "name": "stdout",
     "output_type": "stream",
     "text": [
      "Hello \n",
      " bcho \n",
      "aj jna school?\n"
     ]
    }
   ],
   "source": [
    "print('Hello \\n bcho \\naj jna school?')"
   ]
  },
  {
   "cell_type": "code",
   "execution_count": 37,
   "id": "caec842a-f001-4d85-adf3-b20d1e471b6e",
   "metadata": {},
   "outputs": [
    {
     "name": "stdout",
     "output_type": "stream",
     "text": [
      "hello baho ksy\n",
      "ho , \n",
      "aj jna h school ?? \n"
     ]
    }
   ],
   "source": [
    "print(\"\"\"hello baho ksy\n",
    "ho , \n",
    "aj jna h school ?? \"\"\")"
   ]
  },
  {
   "cell_type": "code",
   "execution_count": 33,
   "id": "6e5eff33-e11b-4d3f-a634-92ffa343d156",
   "metadata": {},
   "outputs": [
    {
     "name": "stdout",
     "output_type": "stream",
     "text": [
      "hello ksy ho m agya hu \n"
     ]
    }
   ],
   "source": [
    "text = \"hello ksy ho \" + \"m agya hu \"  # concatenation \n",
    "print(text)"
   ]
  },
  {
   "cell_type": "code",
   "execution_count": 41,
   "id": "91b0cc12-7dde-4e8a-b470-441d7687ce05",
   "metadata": {},
   "outputs": [
    {
     "name": "stdout",
     "output_type": "stream",
     "text": [
      "hello baho ksy\n",
      "ho , \n",
      "aj jna h school ?? \n",
      "the sum of 7 and 9 is 16\n"
     ]
    }
   ],
   "source": [
    "print(\"\"\"hello baho ksy\n",
    "ho , \n",
    "aj jna h school ?? \"\"\")\n",
    "a = 7\n",
    "b = 9\n",
    "c = a+b\n",
    "print(f\"the sum of {a} and {b} is\",c)"
   ]
  },
  {
   "cell_type": "code",
   "execution_count": 43,
   "id": "7212cd09-cb4d-483f-9bad-b0d75dba9cd4",
   "metadata": {},
   "outputs": [
    {
     "data": {
      "text/plain": [
       "int"
      ]
     },
     "execution_count": 43,
     "metadata": {},
     "output_type": "execute_result"
    }
   ],
   "source": [
    "type(a)"
   ]
  },
  {
   "cell_type": "code",
   "execution_count": 45,
   "id": "ca356dec-021b-4028-97fd-d0ff37819f2e",
   "metadata": {},
   "outputs": [
    {
     "data": {
      "text/plain": [
       "int"
      ]
     },
     "execution_count": 45,
     "metadata": {},
     "output_type": "execute_result"
    }
   ],
   "source": [
    "type(c)"
   ]
  },
  {
   "cell_type": "code",
   "execution_count": 47,
   "id": "b224935e-5943-4c04-a8ab-9034bbca3e45",
   "metadata": {},
   "outputs": [],
   "source": [
    "c=9.7"
   ]
  },
  {
   "cell_type": "code",
   "execution_count": 51,
   "id": "e871b65a-27be-4af8-8f3f-605d627e65f7",
   "metadata": {},
   "outputs": [
    {
     "data": {
      "text/plain": [
       "float"
      ]
     },
     "execution_count": 51,
     "metadata": {},
     "output_type": "execute_result"
    }
   ],
   "source": [
    "type(c)"
   ]
  },
  {
   "cell_type": "code",
   "execution_count": 99,
   "id": "28936909-7347-4460-874d-524b153cd332",
   "metadata": {},
   "outputs": [],
   "source": [
    "a = \"I am Zeeshan String sentence Type\""
   ]
  },
  {
   "cell_type": "code",
   "execution_count": 55,
   "id": "513c74cc-2fe3-4d2c-b853-c41d71934eaa",
   "metadata": {},
   "outputs": [
    {
     "data": {
      "text/plain": [
       "str"
      ]
     },
     "execution_count": 55,
     "metadata": {},
     "output_type": "execute_result"
    }
   ],
   "source": [
    "type(a)"
   ]
  },
  {
   "cell_type": "code",
   "execution_count": 57,
   "id": "34ffff81-b095-43fa-ae71-818084c5548a",
   "metadata": {},
   "outputs": [
    {
     "data": {
      "text/plain": [
       "27"
      ]
     },
     "execution_count": 57,
     "metadata": {},
     "output_type": "execute_result"
    }
   ],
   "source": [
    "len(a)"
   ]
  },
  {
   "cell_type": "code",
   "execution_count": 65,
   "id": "b718347d-e3f2-4296-a8d9-46d6e64991f2",
   "metadata": {},
   "outputs": [
    {
     "data": {
      "text/plain": [
       "'i am a '"
      ]
     },
     "execution_count": 65,
     "metadata": {},
     "output_type": "execute_result"
    }
   ],
   "source": [
    "a[0:7]  # slicing"
   ]
  },
  {
   "cell_type": "code",
   "execution_count": 77,
   "id": "0c668bb4-8d83-423b-94ad-f1de6c089604",
   "metadata": {},
   "outputs": [
    {
     "name": "stdout",
     "output_type": "stream",
     "text": [
      "we found a\n"
     ]
    }
   ],
   "source": [
    "if \"Zeeshan\" in a:\n",
    "    print(\"we found a\")  # indentation "
   ]
  },
  {
   "cell_type": "code",
   "execution_count": 83,
   "id": "4b46aa08-372b-4dc7-93be-d366f452f8a0",
   "metadata": {},
   "outputs": [
    {
     "data": {
      "text/plain": [
       "False"
      ]
     },
     "execution_count": 83,
     "metadata": {},
     "output_type": "execute_result"
    }
   ],
   "source": [
    "\"tye\" in a"
   ]
  },
  {
   "cell_type": "code",
   "execution_count": 101,
   "id": "04f3735f-7dd5-4d33-b009-d9dd3f7de6b1",
   "metadata": {},
   "outputs": [],
   "source": [
    "upper_a = a.lower()"
   ]
  },
  {
   "cell_type": "code",
   "execution_count": 103,
   "id": "f54f5789-b5b0-4c34-ac15-61bafd1baa5a",
   "metadata": {},
   "outputs": [
    {
     "data": {
      "text/plain": [
       "'i am zeeshan string sentence type'"
      ]
     },
     "execution_count": 103,
     "metadata": {},
     "output_type": "execute_result"
    }
   ],
   "source": [
    "upper_a"
   ]
  },
  {
   "cell_type": "code",
   "execution_count": null,
   "id": "97ec20c8-1bfd-4dec-a61c-710c81573dc2",
   "metadata": {},
   "outputs": [],
   "source": [
    "print(f\"the vale {a}\""
   ]
  }
 ],
 "metadata": {
  "kernelspec": {
   "display_name": "Python 3 (ipykernel)",
   "language": "python",
   "name": "python3"
  },
  "language_info": {
   "codemirror_mode": {
    "name": "ipython",
    "version": 3
   },
   "file_extension": ".py",
   "mimetype": "text/x-python",
   "name": "python",
   "nbconvert_exporter": "python",
   "pygments_lexer": "ipython3",
   "version": "3.12.7"
  }
 },
 "nbformat": 4,
 "nbformat_minor": 5
}
