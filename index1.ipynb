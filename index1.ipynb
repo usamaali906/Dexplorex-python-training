{
 "cells": [
  {
   "cell_type": "markdown",
   "id": "1cf15280-aadc-4205-9d25-56b84dae1c23",
   "metadata": {},
   "source": [
    "# Introduction\n",
    "In this we will give our introduction.\n",
    "## Name:-Usama Ali\n",
    "## Class :- 1st "
   ]
  },
  {
   "cell_type": "code",
   "execution_count": 24,
   "id": "f7612805-53ac-47cc-88c6-31ddbe9f10b3",
   "metadata": {},
   "outputs": [
    {
     "name": "stdout",
     "output_type": "stream",
     "text": [
      "sum of 34 and 26 is 60\n"
     ]
    }
   ],
   "source": [
    "a = 34\n",
    "b = 26\n",
    "c = a+b\n",
    "print(f\"sum of {a} and {b} is\",c)\n"
   ]
  },
  {
   "cell_type": "code",
   "execution_count": 36,
   "id": "87916352-57e3-46c8-9d98-238b55a12de6",
   "metadata": {},
   "outputs": [
    {
     "name": "stdout",
     "output_type": "stream",
     "text": [
      "i am a robot\n"
     ]
    }
   ],
   "source": [
    "xyz = \"i am a robot\"\n",
    "print(xyz)"
   ]
  },
  {
   "cell_type": "code",
   "execution_count": 47,
   "id": "04d85a07-7428-4636-82fe-1bb0fd480f0e",
   "metadata": {},
   "outputs": [],
   "source": [
    "if \"man\" in xyz:\n",
    "    print('here we have a robot')\n"
   ]
  },
  {
   "cell_type": "code",
   "execution_count": 53,
   "id": "7e75a744-8052-4da6-82a3-d9c5da27a1a7",
   "metadata": {},
   "outputs": [
    {
     "data": {
      "text/plain": [
       "12"
      ]
     },
     "execution_count": 53,
     "metadata": {},
     "output_type": "execute_result"
    }
   ],
   "source": [
    "len(xyz)"
   ]
  },
  {
   "cell_type": "code",
   "execution_count": 59,
   "id": "16c585d6-b903-4faf-9be1-4ddbf1da915f",
   "metadata": {},
   "outputs": [
    {
     "data": {
      "text/plain": [
       "'i am '"
      ]
     },
     "execution_count": 59,
     "metadata": {},
     "output_type": "execute_result"
    }
   ],
   "source": [
    "xyz [0:5]"
   ]
  },
  {
   "cell_type": "code",
   "execution_count": 67,
   "id": "f51bdc9f-862b-40e2-9cd2-6c43274f9d81",
   "metadata": {},
   "outputs": [
    {
     "data": {
      "text/plain": [
       "True"
      ]
     },
     "execution_count": 67,
     "metadata": {},
     "output_type": "execute_result"
    }
   ],
   "source": [
    "\"man\" not in xyz"
   ]
  },
  {
   "cell_type": "code",
   "execution_count": 77,
   "id": "650731cc-a704-4543-8a23-78508a564b34",
   "metadata": {},
   "outputs": [
    {
     "ename": "NameError",
     "evalue": "name 'upper_xyz' is not defined",
     "output_type": "error",
     "traceback": [
      "\u001b[1;31m---------------------------------------------------------------------------\u001b[0m",
      "\u001b[1;31mNameError\u001b[0m                                 Traceback (most recent call last)",
      "Cell \u001b[1;32mIn[77], line 1\u001b[0m\n\u001b[1;32m----> 1\u001b[0m lower\u001b[38;5;241m.\u001b[39mxyz \u001b[38;5;241m=\u001b[39m upper_xyz()\n",
      "\u001b[1;31mNameError\u001b[0m: name 'upper_xyz' is not defined"
     ]
    }
   ],
   "source": [
    "lower.xyz = upper_xyz()"
   ]
  },
  {
   "cell_type": "code",
   "execution_count": null,
   "id": "60ee3bb2-d814-43a4-ae4b-e1154b620fdb",
   "metadata": {},
   "outputs": [],
   "source": [
    "`"
   ]
  }
 ],
 "metadata": {
  "kernelspec": {
   "display_name": "Python 3 (ipykernel)",
   "language": "python",
   "name": "python3"
  },
  "language_info": {
   "codemirror_mode": {
    "name": "ipython",
    "version": 3
   },
   "file_extension": ".py",
   "mimetype": "text/x-python",
   "name": "python",
   "nbconvert_exporter": "python",
   "pygments_lexer": "ipython3",
   "version": "3.12.7"
  }
 },
 "nbformat": 4,
 "nbformat_minor": 5
}
