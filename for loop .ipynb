{
 "cells": [
  {
   "cell_type": "code",
   "execution_count": 9,
   "id": "56971c4f-755e-4518-a2ae-c5e494d058f1",
   "metadata": {},
   "outputs": [
    {
     "name": "stdout",
     "output_type": "stream",
     "text": [
      "['usama', 'ali', 'name']\n"
     ]
    }
   ],
   "source": [
    "data = ['usama','ali','name']\n",
    "print (data)"
   ]
  },
  {
   "cell_type": "code",
   "execution_count": 11,
   "id": "4c4259e8-58b0-4724-8c6f-4f7e74c974d5",
   "metadata": {},
   "outputs": [
    {
     "name": "stdout",
     "output_type": "stream",
     "text": [
      "usama\n",
      "ali\n",
      "name\n"
     ]
    }
   ],
   "source": [
    "for a in data:\n",
    "    print (a)"
   ]
  },
  {
   "cell_type": "code",
   "execution_count": 37,
   "id": "3ab63019-f542-485d-8f44-aed6e0ee0af3",
   "metadata": {},
   "outputs": [],
   "source": [
    "num = ['a','b','c']"
   ]
  },
  {
   "cell_type": "code",
   "execution_count": 43,
   "id": "1d3b09d8-4936-400e-a526-1fb0552c599b",
   "metadata": {},
   "outputs": [
    {
     "name": "stdout",
     "output_type": "stream",
     "text": [
      "name a\n",
      "name b\n",
      "name c\n"
     ]
    }
   ],
   "source": [
    "for y in num:\n",
    "    print (z,y)\n"
   ]
  },
  {
   "cell_type": "code",
   "execution_count": 97,
   "id": "ccef1a7f-dbd5-419c-b23f-6fef32f9f129",
   "metadata": {},
   "outputs": [
    {
     "name": "stdout",
     "output_type": "stream",
     "text": [
      "3 x 1 = 3\n",
      "3 x 2 = 6\n",
      "3 x 3 = 9\n",
      "3 x 4 = 12\n",
      "3 x 5 = 15\n",
      "3 x 6 = 18\n",
      "3 x 7 = 21\n",
      "3 x 8 = 24\n",
      "3 x 9 = 27\n",
      "3 x 10 = 30\n"
     ]
    }
   ],
   "source": [
    "x = 1\n",
    "y = 3\n",
    "\n",
    "while x <= 10:\n",
    "    print (\"3 x\",x,\"=\",y)\n",
    "    x = x+1\n",
    "    y = y+3\n",
    "\n"
   ]
  },
  {
   "cell_type": "code",
   "execution_count": 27,
   "id": "a0241242-a119-4c15-8122-e29e91b6ec88",
   "metadata": {},
   "outputs": [
    {
     "name": "stdin",
     "output_type": "stream",
     "text": [
      "Please enter number: 10\n"
     ]
    },
    {
     "name": "stdout",
     "output_type": "stream",
     "text": [
      "10 x 1 = 10\n",
      "10 x 2 = 20\n",
      "10 x 3 = 30\n",
      "10 x 4 = 40\n",
      "10 x 5 = 50\n",
      "10 x 6 = 60\n",
      "10 x 7 = 70\n",
      "10 x 8 = 80\n",
      "10 x 9 = 90\n",
      "10 x 10 = 100\n"
     ]
    }
   ],
   "source": [
    "num = int(input(\"Please enter number:\"))\n",
    "for i in range (1,11):\n",
    "    print (f\"{num} x {i} = {num*i}\")\n"
   ]
  },
  {
   "cell_type": "code",
   "execution_count": 35,
   "id": "26728a4e-10f5-4dfa-835d-f49ae1f4e6db",
   "metadata": {},
   "outputs": [
    {
     "name": "stdin",
     "output_type": "stream",
     "text": [
      "Enter a number:  3\n",
      "starting point:  5\n",
      "ending point:  10\n"
     ]
    },
    {
     "name": "stdout",
     "output_type": "stream",
     "text": [
      "3 x 5 = 15\n",
      "3 x 6 = 18\n",
      "3 x 7 = 21\n",
      "3 x 8 = 24\n",
      "3 x 9 = 27\n",
      "3 x 10 = 30\n"
     ]
    }
   ],
   "source": [
    "table_num = int(input(\"Enter a number: \"))\n",
    "start_point = int(input(\"starting point: \"))\n",
    "end_point = int(input(\"ending point: \"))\n",
    "for i in range (start_point,end_point+1):\n",
    "    print (f\"{table_num} x {i} = {table_num*i}\")"
   ]
  },
  {
   "cell_type": "code",
   "execution_count": null,
   "id": "79bd444f-4d88-4f05-bf91-ebfdb671c36b",
   "metadata": {},
   "outputs": [],
   "source": []
  }
 ],
 "metadata": {
  "kernelspec": {
   "display_name": "Python 3 (ipykernel)",
   "language": "python",
   "name": "python3"
  },
  "language_info": {
   "codemirror_mode": {
    "name": "ipython",
    "version": 3
   },
   "file_extension": ".py",
   "mimetype": "text/x-python",
   "name": "python",
   "nbconvert_exporter": "python",
   "pygments_lexer": "ipython3",
   "version": "3.12.7"
  }
 },
 "nbformat": 4,
 "nbformat_minor": 5
}
