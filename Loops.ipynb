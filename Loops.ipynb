{
 "cells": [
  {
   "cell_type": "code",
   "execution_count": 37,
   "id": "ded49e45-afa4-4d63-b367-fbe9c8c26da3",
   "metadata": {},
   "outputs": [
    {
     "name": "stdout",
     "output_type": "stream",
     "text": [
      "1\n",
      "2\n",
      "3\n",
      "4\n",
      "5\n",
      "6\n",
      "7\n",
      "8\n",
      "9\n",
      "10\n"
     ]
    }
   ],
   "source": [
    "i = 1\n",
    "while i<= 10:\n",
    "    print (i)\n",
    "    i = i+1\n",
    "    "
   ]
  },
  {
   "cell_type": "code",
   "execution_count": 33,
   "id": "af40d88c-c219-416c-8a4b-b21c6625499f",
   "metadata": {},
   "outputs": [
    {
     "name": "stdout",
     "output_type": "stream",
     "text": [
      "1\n",
      "2\n",
      "3\n",
      "4\n",
      "5\n",
      "6\n",
      "7\n",
      "8\n",
      "9\n",
      "10\n"
     ]
    }
   ],
   "source": [
    "for i in range (1,11):\n",
    "    print (i)"
   ]
  },
  {
   "cell_type": "code",
   "execution_count": 70,
   "id": "bdcda5bc-0c69-426d-861c-1155bae7b26b",
   "metadata": {},
   "outputs": [
    {
     "name": "stdout",
     "output_type": "stream",
     "text": [
      "i= 1 \ttotal= 1\n",
      "i= 2 \ttotal= 3\n",
      "i= 3 \ttotal= 6\n",
      "i= 4 \ttotal= 10\n",
      "i= 5 \ttotal= 15\n",
      "DONE\n"
     ]
    }
   ],
   "source": [
    "total = 0\n",
    "for i in range (1,6,1):\n",
    "    total = total + i\n",
    "    print(\"i=\",i, \"\\ttotal=\", total)\n",
    "print (\"DONE\")"
   ]
  },
  {
   "cell_type": "code",
   "execution_count": 74,
   "id": "b208fb1c-c1d7-4c2e-b9e6-b2d97777f0aa",
   "metadata": {},
   "outputs": [
    {
     "name": "stdin",
     "output_type": "stream",
     "text": [
      "What are you doing with dog now:  food\n"
     ]
    },
    {
     "name": "stdout",
     "output_type": "stream",
     "text": [
      "We are taking the dog for a 'f-o-o-d-'\n"
     ]
    }
   ],
   "source": [
    "activity = input(\"What are you doing with dog now: \")\n",
    "print(\"We are taking the dog for a '\", end=\"\")\n",
    "\n",
    "\n",
    "\n",
    "for ch in activity:\n",
    "    print(ch + \"-\", end=\"\")\n",
    "print(\"'\")\n"
   ]
  },
  {
   "cell_type": "code",
   "execution_count": 78,
   "id": "0b118c3c-1f16-4fa3-b239-961be159813c",
   "metadata": {},
   "outputs": [
    {
     "name": "stdout",
     "output_type": "stream",
     "text": [
      "1\n",
      "2\n",
      "3\n",
      "4\n",
      "5\n",
      "6\n",
      "7\n",
      "8\n",
      "9\n"
     ]
    }
   ],
   "source": [
    "for i in range (1,10):\n",
    "    fo"
   ]
  },
  {
   "cell_type": "code",
   "execution_count": null,
   "id": "5f60f3d4-3e0a-4266-bcc1-bed963153e82",
   "metadata": {},
   "outputs": [],
   "source": []
  }
 ],
 "metadata": {
  "kernelspec": {
   "display_name": "Python 3 (ipykernel)",
   "language": "python",
   "name": "python3"
  },
  "language_info": {
   "codemirror_mode": {
    "name": "ipython",
    "version": 3
   },
   "file_extension": ".py",
   "mimetype": "text/x-python",
   "name": "python",
   "nbconvert_exporter": "python",
   "pygments_lexer": "ipython3",
   "version": "3.12.7"
  }
 },
 "nbformat": 4,
 "nbformat_minor": 5
}
