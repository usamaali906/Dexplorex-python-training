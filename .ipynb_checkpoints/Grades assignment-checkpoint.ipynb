{
 "cells": [
  {
   "cell_type": "code",
   "execution_count": null,
   "id": "0a2d15ed-0b45-418a-bfc6-e60481cedafc",
   "metadata": {},
   "outputs": [],
   "source": [
    "\n"
   ]
  },
  {
   "cell_type": "code",
   "execution_count": 64,
   "id": "6e3cde46-dd2c-4aa2-85d0-0210449ef049",
   "metadata": {},
   "outputs": [
    {
     "name": "stdin",
     "output_type": "stream",
     "text": [
      "Enter Phy Numbers: 80\n",
      "Enter chem Numbers: 90\n",
      "Enter math Numbers 70\n",
      "Enter bio Numbers 90\n",
      "Enter eng Numbers: 90\n"
     ]
    },
    {
     "name": "stdout",
     "output_type": "stream",
     "text": [
      "Your Total marks are: 420\n",
      "You are pass\n"
     ]
    }
   ],
   "source": [
    "phy = int(input(\"Enter Phy Numbers:\"))\n",
    "chem = int(input(\"Enter chem Numbers:\"))\n",
    "math = int(input(\"Enter math Numbers\"))\n",
    "bio = int(input(\"Enter bio Numbers\"))\n",
    "english = int(input(\"Enter eng Numbers:\"))\n",
    "total= phy + chem +math +bio + english\n",
    "perc = total/5\n",
    "print(\"Your Total marks are:\",total)\n",
    "if perc > 40:\n",
    "    print (\"You are pass\")\n",
    "else:\n",
    "    print(\"You are fail\")"
   ]
  },
  {
   "cell_type": "code",
   "execution_count": null,
   "id": "07cf2007-1fe9-47c6-831a-796bdb31e129",
   "metadata": {},
   "outputs": [],
   "source": []
  },
  {
   "cell_type": "code",
   "execution_count": null,
   "id": "be0d2f6a-66ea-4f3c-b530-7b27d90245c3",
   "metadata": {},
   "outputs": [],
   "source": []
  }
 ],
 "metadata": {
  "kernelspec": {
   "display_name": "Python 3 (ipykernel)",
   "language": "python",
   "name": "python3"
  },
  "language_info": {
   "codemirror_mode": {
    "name": "ipython",
    "version": 3
   },
   "file_extension": ".py",
   "mimetype": "text/x-python",
   "name": "python",
   "nbconvert_exporter": "python",
   "pygments_lexer": "ipython3",
   "version": "3.12.7"
  }
 },
 "nbformat": 4,
 "nbformat_minor": 5
}
