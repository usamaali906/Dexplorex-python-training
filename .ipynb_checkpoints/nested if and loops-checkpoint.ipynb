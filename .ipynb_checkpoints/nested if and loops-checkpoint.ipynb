{
 "cells": [
  {
   "cell_type": "code",
   "execution_count": 1,
   "id": "93a3999b-29f9-47f2-8563-d1b482fba006",
   "metadata": {},
   "outputs": [
    {
     "name": "stdin",
     "output_type": "stream",
     "text": [
      "Enter your age: 55\n"
     ]
    }
   ],
   "source": [
    "age = (int(input(\"Enter your age:\")))"
   ]
  },
  {
   "cell_type": "code",
   "execution_count": 6,
   "id": "09bf18f8-ad56-43a7-a909-3ec4c8fbab84",
   "metadata": {},
   "outputs": [
    {
     "data": {
      "text/plain": [
       "55"
      ]
     },
     "execution_count": 6,
     "metadata": {},
     "output_type": "execute_result"
    }
   ],
   "source": [
    "age"
   ]
  },
  {
   "cell_type": "code",
   "execution_count": 8,
   "id": "5d37ab3d-256b-47bd-b9a3-73f56eb45444",
   "metadata": {},
   "outputs": [
    {
     "name": "stdout",
     "output_type": "stream",
     "text": [
      "You are Eligible\n"
     ]
    }
   ],
   "source": [
    "if age > 18:\n",
    "    print(\"You are Eligible\")"
   ]
  },
  {
   "cell_type": "code",
   "execution_count": 10,
   "id": "d1e132a4-7ac7-417f-a8a2-42141a57b32c",
   "metadata": {},
   "outputs": [
    {
     "data": {
      "text/plain": [
       "True"
      ]
     },
     "execution_count": 10,
     "metadata": {},
     "output_type": "execute_result"
    }
   ],
   "source": [
    "age > 18"
   ]
  },
  {
   "cell_type": "code",
   "execution_count": 22,
   "id": "f6eafd23-d15f-4d80-8ff1-00369553e877",
   "metadata": {},
   "outputs": [
    {
     "name": "stdin",
     "output_type": "stream",
     "text": [
      "Please Enter yor Marks: 90\n"
     ]
    },
    {
     "name": "stdout",
     "output_type": "stream",
     "text": [
      "you are selected for Medical\n"
     ]
    }
   ],
   "source": [
    "if age > 18:\n",
    "    marks = (int(input(\"Please Enter yor Marks:\")))\n",
    "    if marks >= 80:\n",
    "        print (\"you are selected for Medical\")\n",
    "    elif marks >= 70:\n",
    "        print (\" You are selected for Engineering\")\n",
    "    else: print (\"you are not selected\")"
   ]
  },
  {
   "cell_type": "code",
   "execution_count": 38,
   "id": "949b59dc-e48f-4cd4-8a72-21227d6a095b",
   "metadata": {},
   "outputs": [
    {
     "name": "stdin",
     "output_type": "stream",
     "text": [
      "Please enter your total Purchase bill: 56\n"
     ]
    },
    {
     "name": "stdout",
     "output_type": "stream",
     "text": [
      "Your total Purchase is 56\n",
      " Congrats! Your shipping is free\n"
     ]
    }
   ],
   "source": [
    "#Calculate shipping charges for a shopper\n",
    "#ask the user to enter the amount for their total purchase\n",
    "#If their total is under $50 add $10, otherwise shipping is free\n",
    "#Tell the user their final total including shipping costs and format the number so it looks like a monetary value\n",
    "\n",
    "TotalPurchase = int(input(\"Please enter your total Purchase bill:\"))\n",
    "if TotalPurchase >= 50:\n",
    "    print (f\"Your total Purchase is {TotalPurchase}\\n Congrats! Your shipping is free\")\n",
    "elif TotalPurchase <50:\n",
    "    Totalwithship = TotalPurchase + 10\n",
    "    print (f\"Your purchasing amount is {TotalPurchase}\\n your shipping charges are 10 \\n Your total bill is {Totalwithship} \")\n"
   ]
  },
  {
   "cell_type": "code",
   "execution_count": 181,
   "id": "e409d4a5-1111-4faf-8c71-3a3493968b00",
   "metadata": {},
   "outputs": [],
   "source": [
    "#country = str(input(\"please enter country name\"))\n",
    "#province = str(input(\"please enter province name\"))\n",
    "#if country.lower() == \"pakistan\":\n",
    "    #cntry = True\n",
    "#else:\n",
    "    #cntry = False"
   ]
  },
  {
   "cell_type": "code",
   "execution_count": 197,
   "id": "6c19c86c-271e-47e2-8874-9bbd0aae7286",
   "metadata": {},
   "outputs": [
    {
     "name": "stdin",
     "output_type": "stream",
     "text": [
      "please enter country name china\n"
     ]
    },
    {
     "name": "stdout",
     "output_type": "stream",
     "text": [
      "No Tax\n"
     ]
    }
   ],
   "source": [
    "country = str(input(\"please enter country name\"))\n",
    "if country.lower() == \"pakistan\":\n",
    "    cntry = True\n",
    "\n",
    "    if cntry:\n",
    "        totalbill = int(input(\"your Total Bill\"))\n",
    "        province = str(input(\"your province name\"))\n",
    "        if province.lower() == \"punjab\" or province == \"sindh\":\n",
    "                tbwt = totalbill + 100\n",
    "                print (f\"Your Total Bill is {totalbill} and you have yo pay 100 rupees Tax \\n Now you hae to pay RS:{tbwt} \")\n",
    "        elif province.lower() == \"kpk\" or \"blc\":\n",
    "                tbwt = totalbill + 200\n",
    "                print (f\"Your Total Bill is {totalbill} and you have yo pay 200 rupees Tax \\n Now you hae to pay RS:{tbwt} \")\n",
    "        elif province.lower() == \"other\":\n",
    "                tbwt = totalbill + 300\n",
    "                print (f\"Your Total Bill is {totalbill} and you have yo pay 300 rupees Tax \\n Now you hae to pay RS:{tbwt} \")\n",
    "else:\n",
    "    cntry = False    \n",
    "    print(\"No Tax\")\n"
   ]
  },
  {
   "cell_type": "code",
   "execution_count": null,
   "id": "f044996e-c9be-41fd-a69f-122ea8fbbaf0",
   "metadata": {},
   "outputs": [],
   "source": []
  }
 ],
 "metadata": {
  "kernelspec": {
   "display_name": "Python 3 (ipykernel)",
   "language": "python",
   "name": "python3"
  },
  "language_info": {
   "codemirror_mode": {
    "name": "ipython",
    "version": 3
   },
   "file_extension": ".py",
   "mimetype": "text/x-python",
   "name": "python",
   "nbconvert_exporter": "python",
   "pygments_lexer": "ipython3",
   "version": "3.12.7"
  }
 },
 "nbformat": 4,
 "nbformat_minor": 5
}
